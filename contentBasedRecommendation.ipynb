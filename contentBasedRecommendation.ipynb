{
  "nbformat": 4,
  "nbformat_minor": 0,
  "metadata": {
    "colab": {
      "name": "contentBasedRecommendation.ipynb",
      "provenance": [],
      "authorship_tag": "ABX9TyNZRKIGE4EurNpvSSAdxTbj",
      "include_colab_link": true
    },
    "kernelspec": {
      "name": "python3",
      "display_name": "Python 3"
    }
  },
  "cells": [
    {
      "cell_type": "markdown",
      "metadata": {
        "id": "view-in-github",
        "colab_type": "text"
      },
      "source": [
        "<a href=\"https://colab.research.google.com/github/torn2537/ContentBasedRecommendation/blob/master/contentBasedRecommendation.ipynb\" target=\"_parent\"><img src=\"https://colab.research.google.com/assets/colab-badge.svg\" alt=\"Open In Colab\"/></a>"
      ]
    },
    {
      "cell_type": "markdown",
      "metadata": {
        "id": "UU2elyibDkHZ",
        "colab_type": "text"
      },
      "source": [
        "# Install important libraries and import them to Google Colab.\n",
        "\n"
      ]
    },
    {
      "cell_type": "code",
      "metadata": {
        "id": "JMUyrPA1-lc2",
        "colab_type": "code",
        "colab": {
          "base_uri": "https://localhost:8080/",
          "height": 151
        },
        "outputId": "24a9e6aa-5d81-4ad8-be0c-632bd1449983"
      },
      "source": [
        "!pip install pandas\n",
        "!pip install rake-nltk\n",
        "\n",
        "import pandas as pd\n",
        "from rake_nltk import Rake\n",
        "import numpy as np\n",
        "from sklearn.metrics.pairwise import cosine_similarity\n",
        "from sklearn.feature_extraction.text import CountVectorizer"
      ],
      "execution_count": 57,
      "outputs": [
        {
          "output_type": "stream",
          "text": [
            "Requirement already satisfied: pandas in /usr/local/lib/python3.6/dist-packages (1.0.3)\n",
            "Requirement already satisfied: numpy>=1.13.3 in /usr/local/lib/python3.6/dist-packages (from pandas) (1.18.3)\n",
            "Requirement already satisfied: python-dateutil>=2.6.1 in /usr/local/lib/python3.6/dist-packages (from pandas) (2.8.1)\n",
            "Requirement already satisfied: pytz>=2017.2 in /usr/local/lib/python3.6/dist-packages (from pandas) (2018.9)\n",
            "Requirement already satisfied: six>=1.5 in /usr/local/lib/python3.6/dist-packages (from python-dateutil>=2.6.1->pandas) (1.12.0)\n",
            "Requirement already satisfied: rake-nltk in /usr/local/lib/python3.6/dist-packages (1.0.4)\n",
            "Requirement already satisfied: nltk in /usr/local/lib/python3.6/dist-packages (from rake-nltk) (3.2.5)\n",
            "Requirement already satisfied: six in /usr/local/lib/python3.6/dist-packages (from nltk->rake-nltk) (1.12.0)\n"
          ],
          "name": "stdout"
        }
      ]
    },
    {
      "cell_type": "markdown",
      "metadata": {
        "id": "eGlDRxBy__-1",
        "colab_type": "text"
      },
      "source": [
        "# Load `IMDB Top 250 dataset` on a provided url and display all informations in the dataset.\n",
        "\n",
        "* the set option is used to set a number of maximum columns to be display."
      ]
    },
    {
      "cell_type": "code",
      "metadata": {
        "id": "Wn3Yfpu6-wk_",
        "colab_type": "code",
        "colab": {
          "base_uri": "https://localhost:8080/",
          "height": 1000
        },
        "outputId": "a11d6078-e83b-432d-aebe-3bf59d379e1d"
      },
      "source": [
        "pd.set_option('display.max_columns', 100)\n",
        "df = pd.read_csv('https://query.data.world/s/uikepcpffyo2nhig52xxeevdialfl7')\n",
        "print(df.head())"
      ],
      "execution_count": 58,
      "outputs": [
        {
          "output_type": "stream",
          "text": [
            "   Unnamed: 0                     Title  Year     Rated     Released  Runtime  \\\n",
            "0           1  The Shawshank Redemption  1994         R  14 Oct 1994  142 min   \n",
            "1           2             The Godfather  1972         R  24 Mar 1972  175 min   \n",
            "2           3    The Godfather: Part II  1974         R  20 Dec 1974  202 min   \n",
            "3           4           The Dark Knight  2008     PG-13  18 Jul 2008  152 min   \n",
            "4           5              12 Angry Men  1957  APPROVED  01 Apr 1957   96 min   \n",
            "\n",
            "                  Genre              Director  \\\n",
            "0          Crime, Drama        Frank Darabont   \n",
            "1          Crime, Drama  Francis Ford Coppola   \n",
            "2          Crime, Drama  Francis Ford Coppola   \n",
            "3  Action, Crime, Drama     Christopher Nolan   \n",
            "4          Crime, Drama          Sidney Lumet   \n",
            "\n",
            "                                              Writer  \\\n",
            "0  Stephen King (short story \"Rita Hayworth and S...   \n",
            "1  Mario Puzo (screenplay), Francis Ford Coppola ...   \n",
            "2  Francis Ford Coppola (screenplay), Mario Puzo ...   \n",
            "3  Jonathan Nolan (screenplay), Christopher Nolan...   \n",
            "4  Reginald Rose (story), Reginald Rose (screenplay)   \n",
            "\n",
            "                                              Actors  \\\n",
            "0  Tim Robbins, Morgan Freeman, Bob Gunton, Willi...   \n",
            "1  Marlon Brando, Al Pacino, James Caan, Richard ...   \n",
            "2  Al Pacino, Robert Duvall, Diane Keaton, Robert...   \n",
            "3  Christian Bale, Heath Ledger, Aaron Eckhart, M...   \n",
            "4  Martin Balsam, John Fiedler, Lee J. Cobb, E.G....   \n",
            "\n",
            "                                                Plot  \\\n",
            "0  Two imprisoned men bond over a number of years...   \n",
            "1  The aging patriarch of an organized crime dyna...   \n",
            "2  The early life and career of Vito Corleone in ...   \n",
            "3  When the menace known as the Joker emerges fro...   \n",
            "4  A jury holdout attempts to prevent a miscarria...   \n",
            "\n",
            "                                     Language  Country  \\\n",
            "0                                     English      USA   \n",
            "1                     English, Italian, Latin      USA   \n",
            "2  English, Italian, Spanish, Latin, Sicilian      USA   \n",
            "3                           English, Mandarin  USA, UK   \n",
            "4                                     English      USA   \n",
            "\n",
            "                                              Awards  \\\n",
            "0  Nominated for 7 Oscars. Another 19 wins & 30 n...   \n",
            "1    Won 3 Oscars. Another 23 wins & 27 nominations.   \n",
            "2    Won 6 Oscars. Another 10 wins & 20 nominations.   \n",
            "3  Won 2 Oscars. Another 151 wins & 153 nominations.   \n",
            "4  Nominated for 3 Oscars. Another 16 wins & 8 no...   \n",
            "\n",
            "                                              Poster           Ratings.Source  \\\n",
            "0  https://images-na.ssl-images-amazon.com/images...  Internet Movie Database   \n",
            "1  https://images-na.ssl-images-amazon.com/images...  Internet Movie Database   \n",
            "2  https://images-na.ssl-images-amazon.com/images...  Internet Movie Database   \n",
            "3  https://images-na.ssl-images-amazon.com/images...  Internet Movie Database   \n",
            "4  https://images-na.ssl-images-amazon.com/images...  Internet Movie Database   \n",
            "\n",
            "  Ratings.Value  Metascore  imdbRating  imdbVotes     imdbID   Type  \\\n",
            "0        9.3/10       80.0         9.3  1,825,626  tt0111161  movie   \n",
            "1        9.2/10      100.0         9.2  1,243,444  tt0068646  movie   \n",
            "2        9.0/10       85.0         9.0    856,870  tt0071562  movie   \n",
            "3        9.0/10       82.0         9.0  1,802,351  tt0468569  movie   \n",
            "4        8.9/10       96.0         8.9    494,215  tt0050083  movie   \n",
            "\n",
            "   tomatoMeter  tomatoImage  tomatoRating  tomatoReviews  tomatoFresh  \\\n",
            "0          NaN          NaN           NaN            NaN          NaN   \n",
            "1          NaN          NaN           NaN            NaN          NaN   \n",
            "2          NaN          NaN           NaN            NaN          NaN   \n",
            "3          NaN          NaN           NaN            NaN          NaN   \n",
            "4          NaN          NaN           NaN            NaN          NaN   \n",
            "\n",
            "   tomatoRotten  tomatoConsensus  tomatoUserMeter  tomatoUserRating  \\\n",
            "0           NaN              NaN              NaN               NaN   \n",
            "1           NaN              NaN              NaN               NaN   \n",
            "2           NaN              NaN              NaN               NaN   \n",
            "3           NaN              NaN              NaN               NaN   \n",
            "4           NaN              NaN              NaN               NaN   \n",
            "\n",
            "   tomatoUserReviews                                          tomatoURL  \\\n",
            "0                NaN  http://www.rottentomatoes.com/m/shawshank_rede...   \n",
            "1                NaN         http://www.rottentomatoes.com/m/godfather/   \n",
            "2                NaN  http://www.rottentomatoes.com/m/godfather_part...   \n",
            "3                NaN   http://www.rottentomatoes.com/m/the_dark_knight/   \n",
            "4                NaN  http://www.rottentomatoes.com/m/1000013-12_ang...   \n",
            "\n",
            "           DVD     BoxOffice                       Production  \\\n",
            "0  27 Jan 1998           NaN                Columbia Pictures   \n",
            "1  09 Oct 2001           NaN               Paramount Pictures   \n",
            "2  24 May 2005           NaN               Paramount Pictures   \n",
            "3  09 Dec 2008  $533,316,061  Warner Bros. Pictures/Legendary   \n",
            "4  06 Mar 2001           NaN             Criterion Collection   \n",
            "\n",
            "                                             Website  Response  \n",
            "0                                                NaN      True  \n",
            "1                        http://www.thegodfather.com      True  \n",
            "2                       http://www.thegodfather.com/      True  \n",
            "3               http://thedarkknight.warnerbros.com/      True  \n",
            "4  http://www.criterion.com/films/27871-12-angry-men      True  \n"
          ],
          "name": "stdout"
        }
      ]
    },
    {
      "cell_type": "markdown",
      "metadata": {
        "id": "y0qyf4pvHrVh",
        "colab_type": "text"
      },
      "source": [
        "check the shape of the dataframe and it will normally show these properties in a Tuple (numbers of row, numbers of columns). \n",
        "In this tutorial, it would be `(total numbers of movie, total numbers of movie's feature)`"
      ]
    },
    {
      "cell_type": "code",
      "metadata": {
        "id": "XqO_e0MSC1xR",
        "colab_type": "code",
        "colab": {
          "base_uri": "https://localhost:8080/",
          "height": 34
        },
        "outputId": "73d6b018-df90-4bfd-e792-e14d06640ab8"
      },
      "source": [
        "df.shape"
      ],
      "execution_count": 59,
      "outputs": [
        {
          "output_type": "execute_result",
          "data": {
            "text/plain": [
              "(250, 38)"
            ]
          },
          "metadata": {
            "tags": []
          },
          "execution_count": 59
        }
      ]
    },
    {
      "cell_type": "markdown",
      "metadata": {
        "id": "KrUz2ZMgBt8k",
        "colab_type": "text"
      },
      "source": [
        "# Select `features` to be base features of our recommendation system so I will pick following these features: \n",
        "\n",
        "* Title\n",
        "* Genre\n",
        "* Director\n",
        "* Actors\n",
        "* Plot\n",
        "\n",
        "\n",
        "\n",
        "\n"
      ]
    },
    {
      "cell_type": "code",
      "metadata": {
        "id": "6jZkqC7gFYOA",
        "colab_type": "code",
        "colab": {
          "base_uri": "https://localhost:8080/",
          "height": 402
        },
        "outputId": "c4da67a5-2fb9-4ad9-8ddb-de084e70110d"
      },
      "source": [
        "df = df[ ['Title','Genre', 'Director', 'Actors', 'Plot'] ]\n",
        "df"
      ],
      "execution_count": 60,
      "outputs": [
        {
          "output_type": "execute_result",
          "data": {
            "text/html": [
              "<div>\n",
              "<style scoped>\n",
              "    .dataframe tbody tr th:only-of-type {\n",
              "        vertical-align: middle;\n",
              "    }\n",
              "\n",
              "    .dataframe tbody tr th {\n",
              "        vertical-align: top;\n",
              "    }\n",
              "\n",
              "    .dataframe thead th {\n",
              "        text-align: right;\n",
              "    }\n",
              "</style>\n",
              "<table border=\"1\" class=\"dataframe\">\n",
              "  <thead>\n",
              "    <tr style=\"text-align: right;\">\n",
              "      <th></th>\n",
              "      <th>Title</th>\n",
              "      <th>Genre</th>\n",
              "      <th>Director</th>\n",
              "      <th>Actors</th>\n",
              "      <th>Plot</th>\n",
              "    </tr>\n",
              "  </thead>\n",
              "  <tbody>\n",
              "    <tr>\n",
              "      <th>0</th>\n",
              "      <td>The Shawshank Redemption</td>\n",
              "      <td>Crime, Drama</td>\n",
              "      <td>Frank Darabont</td>\n",
              "      <td>Tim Robbins, Morgan Freeman, Bob Gunton, Willi...</td>\n",
              "      <td>Two imprisoned men bond over a number of years...</td>\n",
              "    </tr>\n",
              "    <tr>\n",
              "      <th>1</th>\n",
              "      <td>The Godfather</td>\n",
              "      <td>Crime, Drama</td>\n",
              "      <td>Francis Ford Coppola</td>\n",
              "      <td>Marlon Brando, Al Pacino, James Caan, Richard ...</td>\n",
              "      <td>The aging patriarch of an organized crime dyna...</td>\n",
              "    </tr>\n",
              "    <tr>\n",
              "      <th>2</th>\n",
              "      <td>The Godfather: Part II</td>\n",
              "      <td>Crime, Drama</td>\n",
              "      <td>Francis Ford Coppola</td>\n",
              "      <td>Al Pacino, Robert Duvall, Diane Keaton, Robert...</td>\n",
              "      <td>The early life and career of Vito Corleone in ...</td>\n",
              "    </tr>\n",
              "    <tr>\n",
              "      <th>3</th>\n",
              "      <td>The Dark Knight</td>\n",
              "      <td>Action, Crime, Drama</td>\n",
              "      <td>Christopher Nolan</td>\n",
              "      <td>Christian Bale, Heath Ledger, Aaron Eckhart, M...</td>\n",
              "      <td>When the menace known as the Joker emerges fro...</td>\n",
              "    </tr>\n",
              "    <tr>\n",
              "      <th>4</th>\n",
              "      <td>12 Angry Men</td>\n",
              "      <td>Crime, Drama</td>\n",
              "      <td>Sidney Lumet</td>\n",
              "      <td>Martin Balsam, John Fiedler, Lee J. Cobb, E.G....</td>\n",
              "      <td>A jury holdout attempts to prevent a miscarria...</td>\n",
              "    </tr>\n",
              "    <tr>\n",
              "      <th>...</th>\n",
              "      <td>...</td>\n",
              "      <td>...</td>\n",
              "      <td>...</td>\n",
              "      <td>...</td>\n",
              "      <td>...</td>\n",
              "    </tr>\n",
              "    <tr>\n",
              "      <th>245</th>\n",
              "      <td>The Lost Weekend</td>\n",
              "      <td>Drama, Film-Noir</td>\n",
              "      <td>Billy Wilder</td>\n",
              "      <td>Ray Milland, Jane Wyman, Phillip Terry, Howard...</td>\n",
              "      <td>The desperate life of a chronic alcoholic is f...</td>\n",
              "    </tr>\n",
              "    <tr>\n",
              "      <th>246</th>\n",
              "      <td>Short Term 12</td>\n",
              "      <td>Drama</td>\n",
              "      <td>Destin Daniel Cretton</td>\n",
              "      <td>Brie Larson, John Gallagher Jr., Stephanie Bea...</td>\n",
              "      <td>A 20-something supervising staff member of a r...</td>\n",
              "    </tr>\n",
              "    <tr>\n",
              "      <th>247</th>\n",
              "      <td>His Girl Friday</td>\n",
              "      <td>Comedy, Drama, Romance</td>\n",
              "      <td>Howard Hawks</td>\n",
              "      <td>Cary Grant, Rosalind Russell, Ralph Bellamy, G...</td>\n",
              "      <td>A newspaper editor uses every trick in the boo...</td>\n",
              "    </tr>\n",
              "    <tr>\n",
              "      <th>248</th>\n",
              "      <td>The Straight Story</td>\n",
              "      <td>Biography, Drama</td>\n",
              "      <td>David Lynch</td>\n",
              "      <td>Sissy Spacek, Jane Galloway Heitz, Joseph A. C...</td>\n",
              "      <td>An old man makes a long journey by lawn-mover ...</td>\n",
              "    </tr>\n",
              "    <tr>\n",
              "      <th>249</th>\n",
              "      <td>Slumdog Millionaire</td>\n",
              "      <td>Drama</td>\n",
              "      <td>Danny Boyle, Loveleen Tandan</td>\n",
              "      <td>Dev Patel, Saurabh Shukla, Anil Kapoor, Raj Zu...</td>\n",
              "      <td>A Mumbai teen reflects on his upbringing in th...</td>\n",
              "    </tr>\n",
              "  </tbody>\n",
              "</table>\n",
              "<p>250 rows × 5 columns</p>\n",
              "</div>"
            ],
            "text/plain": [
              "                        Title                   Genre  \\\n",
              "0    The Shawshank Redemption            Crime, Drama   \n",
              "1               The Godfather            Crime, Drama   \n",
              "2      The Godfather: Part II            Crime, Drama   \n",
              "3             The Dark Knight    Action, Crime, Drama   \n",
              "4                12 Angry Men            Crime, Drama   \n",
              "..                        ...                     ...   \n",
              "245          The Lost Weekend        Drama, Film-Noir   \n",
              "246             Short Term 12                   Drama   \n",
              "247           His Girl Friday  Comedy, Drama, Romance   \n",
              "248        The Straight Story        Biography, Drama   \n",
              "249       Slumdog Millionaire                   Drama   \n",
              "\n",
              "                         Director  \\\n",
              "0                  Frank Darabont   \n",
              "1            Francis Ford Coppola   \n",
              "2            Francis Ford Coppola   \n",
              "3               Christopher Nolan   \n",
              "4                    Sidney Lumet   \n",
              "..                            ...   \n",
              "245                  Billy Wilder   \n",
              "246         Destin Daniel Cretton   \n",
              "247                  Howard Hawks   \n",
              "248                   David Lynch   \n",
              "249  Danny Boyle, Loveleen Tandan   \n",
              "\n",
              "                                                Actors  \\\n",
              "0    Tim Robbins, Morgan Freeman, Bob Gunton, Willi...   \n",
              "1    Marlon Brando, Al Pacino, James Caan, Richard ...   \n",
              "2    Al Pacino, Robert Duvall, Diane Keaton, Robert...   \n",
              "3    Christian Bale, Heath Ledger, Aaron Eckhart, M...   \n",
              "4    Martin Balsam, John Fiedler, Lee J. Cobb, E.G....   \n",
              "..                                                 ...   \n",
              "245  Ray Milland, Jane Wyman, Phillip Terry, Howard...   \n",
              "246  Brie Larson, John Gallagher Jr., Stephanie Bea...   \n",
              "247  Cary Grant, Rosalind Russell, Ralph Bellamy, G...   \n",
              "248  Sissy Spacek, Jane Galloway Heitz, Joseph A. C...   \n",
              "249  Dev Patel, Saurabh Shukla, Anil Kapoor, Raj Zu...   \n",
              "\n",
              "                                                  Plot  \n",
              "0    Two imprisoned men bond over a number of years...  \n",
              "1    The aging patriarch of an organized crime dyna...  \n",
              "2    The early life and career of Vito Corleone in ...  \n",
              "3    When the menace known as the Joker emerges fro...  \n",
              "4    A jury holdout attempts to prevent a miscarria...  \n",
              "..                                                 ...  \n",
              "245  The desperate life of a chronic alcoholic is f...  \n",
              "246  A 20-something supervising staff member of a r...  \n",
              "247  A newspaper editor uses every trick in the boo...  \n",
              "248  An old man makes a long journey by lawn-mover ...  \n",
              "249  A Mumbai teen reflects on his upbringing in th...  \n",
              "\n",
              "[250 rows x 5 columns]"
            ]
          },
          "metadata": {
            "tags": []
          },
          "execution_count": 60
        }
      ]
    },
    {
      "cell_type": "markdown",
      "metadata": {
        "id": "O_7YABbENXoC",
        "colab_type": "text"
      },
      "source": [
        "# **Clean the data**\n",
        "### Before we move to next steps we should `clean` the selected features first.\n",
        "* for Genre, we split it by comma (,).\n",
        "* for Director, we split their names by white space.\n",
        "* for Actors, we also split it as Genre then we get three names (Firstname, Middle name, Last name)"
      ]
    },
    {
      "cell_type": "code",
      "metadata": {
        "id": "NkcvmnpcN9B2",
        "colab_type": "code",
        "colab": {}
      },
      "source": [
        "df['Genre'] = df['Genre'].map(lambda x: x.split(','))\n",
        "df['Director'] = df['Director'].map(lambda x: x.split(' '))\n",
        "df['Actors'] = df['Actors'].map(lambda x: x.split(',')[:3])"
      ],
      "execution_count": 0,
      "outputs": []
    },
    {
      "cell_type": "markdown",
      "metadata": {
        "id": "8DGsTwVczMA8",
        "colab_type": "text"
      },
      "source": [
        "We need to merge first name, middle name and last name together for each actor and director, so it's considered as one word."
      ]
    },
    {
      "cell_type": "code",
      "metadata": {
        "id": "aqSdzUL1cqMb",
        "colab_type": "code",
        "colab": {
          "base_uri": "https://localhost:8080/",
          "height": 402
        },
        "outputId": "029aba19-67a8-4dc3-e082-1c4bc37eb197"
      },
      "source": [
        "nonWhiteSpace = ''\n",
        "for index, row in df.iterrows():\n",
        "  row['Actors'] = [x.lower().replace(' ',nonWhiteSpace) for x in row['Actors']]\n",
        "  row['Director'] = ''.join(row['Director']).lower()\n",
        "df"
      ],
      "execution_count": 62,
      "outputs": [
        {
          "output_type": "execute_result",
          "data": {
            "text/html": [
              "<div>\n",
              "<style scoped>\n",
              "    .dataframe tbody tr th:only-of-type {\n",
              "        vertical-align: middle;\n",
              "    }\n",
              "\n",
              "    .dataframe tbody tr th {\n",
              "        vertical-align: top;\n",
              "    }\n",
              "\n",
              "    .dataframe thead th {\n",
              "        text-align: right;\n",
              "    }\n",
              "</style>\n",
              "<table border=\"1\" class=\"dataframe\">\n",
              "  <thead>\n",
              "    <tr style=\"text-align: right;\">\n",
              "      <th></th>\n",
              "      <th>Title</th>\n",
              "      <th>Genre</th>\n",
              "      <th>Director</th>\n",
              "      <th>Actors</th>\n",
              "      <th>Plot</th>\n",
              "    </tr>\n",
              "  </thead>\n",
              "  <tbody>\n",
              "    <tr>\n",
              "      <th>0</th>\n",
              "      <td>The Shawshank Redemption</td>\n",
              "      <td>[Crime,  Drama]</td>\n",
              "      <td>frankdarabont</td>\n",
              "      <td>[timrobbins, morganfreeman, bobgunton]</td>\n",
              "      <td>Two imprisoned men bond over a number of years...</td>\n",
              "    </tr>\n",
              "    <tr>\n",
              "      <th>1</th>\n",
              "      <td>The Godfather</td>\n",
              "      <td>[Crime,  Drama]</td>\n",
              "      <td>francisfordcoppola</td>\n",
              "      <td>[marlonbrando, alpacino, jamescaan]</td>\n",
              "      <td>The aging patriarch of an organized crime dyna...</td>\n",
              "    </tr>\n",
              "    <tr>\n",
              "      <th>2</th>\n",
              "      <td>The Godfather: Part II</td>\n",
              "      <td>[Crime,  Drama]</td>\n",
              "      <td>francisfordcoppola</td>\n",
              "      <td>[alpacino, robertduvall, dianekeaton]</td>\n",
              "      <td>The early life and career of Vito Corleone in ...</td>\n",
              "    </tr>\n",
              "    <tr>\n",
              "      <th>3</th>\n",
              "      <td>The Dark Knight</td>\n",
              "      <td>[Action,  Crime,  Drama]</td>\n",
              "      <td>christophernolan</td>\n",
              "      <td>[christianbale, heathledger, aaroneckhart]</td>\n",
              "      <td>When the menace known as the Joker emerges fro...</td>\n",
              "    </tr>\n",
              "    <tr>\n",
              "      <th>4</th>\n",
              "      <td>12 Angry Men</td>\n",
              "      <td>[Crime,  Drama]</td>\n",
              "      <td>sidneylumet</td>\n",
              "      <td>[martinbalsam, johnfiedler, leej.cobb]</td>\n",
              "      <td>A jury holdout attempts to prevent a miscarria...</td>\n",
              "    </tr>\n",
              "    <tr>\n",
              "      <th>...</th>\n",
              "      <td>...</td>\n",
              "      <td>...</td>\n",
              "      <td>...</td>\n",
              "      <td>...</td>\n",
              "      <td>...</td>\n",
              "    </tr>\n",
              "    <tr>\n",
              "      <th>245</th>\n",
              "      <td>The Lost Weekend</td>\n",
              "      <td>[Drama,  Film-Noir]</td>\n",
              "      <td>billywilder</td>\n",
              "      <td>[raymilland, janewyman, phillipterry]</td>\n",
              "      <td>The desperate life of a chronic alcoholic is f...</td>\n",
              "    </tr>\n",
              "    <tr>\n",
              "      <th>246</th>\n",
              "      <td>Short Term 12</td>\n",
              "      <td>[Drama]</td>\n",
              "      <td>destindanielcretton</td>\n",
              "      <td>[brielarson, johngallagherjr., stephaniebeatriz]</td>\n",
              "      <td>A 20-something supervising staff member of a r...</td>\n",
              "    </tr>\n",
              "    <tr>\n",
              "      <th>247</th>\n",
              "      <td>His Girl Friday</td>\n",
              "      <td>[Comedy,  Drama,  Romance]</td>\n",
              "      <td>howardhawks</td>\n",
              "      <td>[carygrant, rosalindrussell, ralphbellamy]</td>\n",
              "      <td>A newspaper editor uses every trick in the boo...</td>\n",
              "    </tr>\n",
              "    <tr>\n",
              "      <th>248</th>\n",
              "      <td>The Straight Story</td>\n",
              "      <td>[Biography,  Drama]</td>\n",
              "      <td>davidlynch</td>\n",
              "      <td>[sissyspacek, janegallowayheitz, josepha.carpe...</td>\n",
              "      <td>An old man makes a long journey by lawn-mover ...</td>\n",
              "    </tr>\n",
              "    <tr>\n",
              "      <th>249</th>\n",
              "      <td>Slumdog Millionaire</td>\n",
              "      <td>[Drama]</td>\n",
              "      <td>dannyboyle,loveleentandan</td>\n",
              "      <td>[devpatel, saurabhshukla, anilkapoor]</td>\n",
              "      <td>A Mumbai teen reflects on his upbringing in th...</td>\n",
              "    </tr>\n",
              "  </tbody>\n",
              "</table>\n",
              "<p>250 rows × 5 columns</p>\n",
              "</div>"
            ],
            "text/plain": [
              "                        Title                       Genre  \\\n",
              "0    The Shawshank Redemption             [Crime,  Drama]   \n",
              "1               The Godfather             [Crime,  Drama]   \n",
              "2      The Godfather: Part II             [Crime,  Drama]   \n",
              "3             The Dark Knight    [Action,  Crime,  Drama]   \n",
              "4                12 Angry Men             [Crime,  Drama]   \n",
              "..                        ...                         ...   \n",
              "245          The Lost Weekend         [Drama,  Film-Noir]   \n",
              "246             Short Term 12                     [Drama]   \n",
              "247           His Girl Friday  [Comedy,  Drama,  Romance]   \n",
              "248        The Straight Story         [Biography,  Drama]   \n",
              "249       Slumdog Millionaire                     [Drama]   \n",
              "\n",
              "                      Director  \\\n",
              "0                frankdarabont   \n",
              "1           francisfordcoppola   \n",
              "2           francisfordcoppola   \n",
              "3             christophernolan   \n",
              "4                  sidneylumet   \n",
              "..                         ...   \n",
              "245                billywilder   \n",
              "246        destindanielcretton   \n",
              "247                howardhawks   \n",
              "248                 davidlynch   \n",
              "249  dannyboyle,loveleentandan   \n",
              "\n",
              "                                                Actors  \\\n",
              "0               [timrobbins, morganfreeman, bobgunton]   \n",
              "1                  [marlonbrando, alpacino, jamescaan]   \n",
              "2                [alpacino, robertduvall, dianekeaton]   \n",
              "3           [christianbale, heathledger, aaroneckhart]   \n",
              "4               [martinbalsam, johnfiedler, leej.cobb]   \n",
              "..                                                 ...   \n",
              "245              [raymilland, janewyman, phillipterry]   \n",
              "246   [brielarson, johngallagherjr., stephaniebeatriz]   \n",
              "247         [carygrant, rosalindrussell, ralphbellamy]   \n",
              "248  [sissyspacek, janegallowayheitz, josepha.carpe...   \n",
              "249              [devpatel, saurabhshukla, anilkapoor]   \n",
              "\n",
              "                                                  Plot  \n",
              "0    Two imprisoned men bond over a number of years...  \n",
              "1    The aging patriarch of an organized crime dyna...  \n",
              "2    The early life and career of Vito Corleone in ...  \n",
              "3    When the menace known as the Joker emerges fro...  \n",
              "4    A jury holdout attempts to prevent a miscarria...  \n",
              "..                                                 ...  \n",
              "245  The desperate life of a chronic alcoholic is f...  \n",
              "246  A 20-something supervising staff member of a r...  \n",
              "247  A newspaper editor uses every trick in the boo...  \n",
              "248  An old man makes a long journey by lawn-mover ...  \n",
              "249  A Mumbai teen reflects on his upbringing in th...  \n",
              "\n",
              "[250 rows x 5 columns]"
            ]
          },
          "metadata": {
            "tags": []
          },
          "execution_count": 62
        }
      ]
    },
    {
      "cell_type": "markdown",
      "metadata": {
        "id": "odosy0PA8GgQ",
        "colab_type": "text"
      },
      "source": [
        "### Extract keywords from `Plot` column that is prepared for creating word vectors.\n",
        "*   Initial a Rake() instance (by default is uses english stopwords from NLTK and discard all puntuation characters)\n",
        "*   Use the `extract_keywords_from_text(<text>)` to extract keywords from the Plot column.\n",
        "*   Create `dictOfKeywordsAndScores` (Dict) which has key is a keyword, value is the keyword's score.\n",
        "\n",
        "\n"
      ]
    },
    {
      "cell_type": "code",
      "metadata": {
        "id": "8B1CExyy8bl2",
        "colab_type": "code",
        "colab": {
          "base_uri": "https://localhost:8080/",
          "height": 431
        },
        "outputId": "1853645a-3ecd-42ea-8e5a-113214eca47d"
      },
      "source": [
        "df['Keywords'] = \"\"\n",
        "rake = Rake()\n",
        "for index, row in df.iterrows():\n",
        "  rake.extract_keywords_from_text(row['Plot'])\n",
        "  dictOfKeywordsAndScores = rake.get_word_degrees()\n",
        "  row['Keywords'] = list(dictOfKeywordsAndScores.keys())\n",
        "df.drop(columns='Plot', inplace=True)\n",
        "#Display the dataframe\n",
        "df.set_index('Title', inplace = True)\n",
        "df"
      ],
      "execution_count": 63,
      "outputs": [
        {
          "output_type": "execute_result",
          "data": {
            "text/html": [
              "<div>\n",
              "<style scoped>\n",
              "    .dataframe tbody tr th:only-of-type {\n",
              "        vertical-align: middle;\n",
              "    }\n",
              "\n",
              "    .dataframe tbody tr th {\n",
              "        vertical-align: top;\n",
              "    }\n",
              "\n",
              "    .dataframe thead th {\n",
              "        text-align: right;\n",
              "    }\n",
              "</style>\n",
              "<table border=\"1\" class=\"dataframe\">\n",
              "  <thead>\n",
              "    <tr style=\"text-align: right;\">\n",
              "      <th></th>\n",
              "      <th>Genre</th>\n",
              "      <th>Director</th>\n",
              "      <th>Actors</th>\n",
              "      <th>Keywords</th>\n",
              "    </tr>\n",
              "    <tr>\n",
              "      <th>Title</th>\n",
              "      <th></th>\n",
              "      <th></th>\n",
              "      <th></th>\n",
              "      <th></th>\n",
              "    </tr>\n",
              "  </thead>\n",
              "  <tbody>\n",
              "    <tr>\n",
              "      <th>The Shawshank Redemption</th>\n",
              "      <td>[Crime,  Drama]</td>\n",
              "      <td>frankdarabont</td>\n",
              "      <td>[timrobbins, morganfreeman, bobgunton]</td>\n",
              "      <td>[acts, number, common, decency, years, eventua...</td>\n",
              "    </tr>\n",
              "    <tr>\n",
              "      <th>The Godfather</th>\n",
              "      <td>[Crime,  Drama]</td>\n",
              "      <td>francisfordcoppola</td>\n",
              "      <td>[marlonbrando, alpacino, jamescaan]</td>\n",
              "      <td>[reluctant, son, organized, crime, dynasty, tr...</td>\n",
              "    </tr>\n",
              "    <tr>\n",
              "      <th>The Godfather: Part II</th>\n",
              "      <td>[Crime,  Drama]</td>\n",
              "      <td>francisfordcoppola</td>\n",
              "      <td>[alpacino, robertduvall, dianekeaton]</td>\n",
              "      <td>[portrayed, grip, early, life, tightens, son, ...</td>\n",
              "    </tr>\n",
              "    <tr>\n",
              "      <th>The Dark Knight</th>\n",
              "      <td>[Action,  Crime,  Drama]</td>\n",
              "      <td>christophernolan</td>\n",
              "      <td>[christianbale, heathledger, aaroneckhart]</td>\n",
              "      <td>[joker, emerges, mysterious, past, ability, fi...</td>\n",
              "    </tr>\n",
              "    <tr>\n",
              "      <th>12 Angry Men</th>\n",
              "      <td>[Crime,  Drama]</td>\n",
              "      <td>sidneylumet</td>\n",
              "      <td>[martinbalsam, johnfiedler, leej.cobb]</td>\n",
              "      <td>[forcing, jury, holdout, attempts, justice, pr...</td>\n",
              "    </tr>\n",
              "    <tr>\n",
              "      <th>...</th>\n",
              "      <td>...</td>\n",
              "      <td>...</td>\n",
              "      <td>...</td>\n",
              "      <td>...</td>\n",
              "    </tr>\n",
              "    <tr>\n",
              "      <th>The Lost Weekend</th>\n",
              "      <td>[Drama,  Film-Noir]</td>\n",
              "      <td>billywilder</td>\n",
              "      <td>[raymilland, janewyman, phillipterry]</td>\n",
              "      <td>[followed, desperate, life, four, chronic, alc...</td>\n",
              "    </tr>\n",
              "    <tr>\n",
              "      <th>Short Term 12</th>\n",
              "      <td>[Drama]</td>\n",
              "      <td>destindanielcretton</td>\n",
              "      <td>[brielarson, johngallagherjr., stephaniebeatriz]</td>\n",
              "      <td>[longtime, boyfriend, residential, treatment, ...</td>\n",
              "    </tr>\n",
              "    <tr>\n",
              "      <th>His Girl Friday</th>\n",
              "      <td>[Comedy,  Drama,  Romance]</td>\n",
              "      <td>howardhawks</td>\n",
              "      <td>[carygrant, rosalindrussell, ralphbellamy]</td>\n",
              "      <td>[wife, book, keep, ace, reporter, ex, newspape...</td>\n",
              "    </tr>\n",
              "    <tr>\n",
              "      <th>The Straight Story</th>\n",
              "      <td>[Biography,  Drama]</td>\n",
              "      <td>davidlynch</td>\n",
              "      <td>[sissyspacek, janegallowayheitz, josepha.carpe...</td>\n",
              "      <td>[mend, old, man, makes, lawn, mover, tractor, ...</td>\n",
              "    </tr>\n",
              "    <tr>\n",
              "      <th>Slumdog Millionaire</th>\n",
              "      <td>[Drama]</td>\n",
              "      <td>dannyboyle,loveleentandan</td>\n",
              "      <td>[devpatel, saurabhshukla, anilkapoor]</td>\n",
              "      <td>[mumbai, teen, reflects, accused, slums, wants...</td>\n",
              "    </tr>\n",
              "  </tbody>\n",
              "</table>\n",
              "<p>250 rows × 4 columns</p>\n",
              "</div>"
            ],
            "text/plain": [
              "                                               Genre  \\\n",
              "Title                                                  \n",
              "The Shawshank Redemption             [Crime,  Drama]   \n",
              "The Godfather                        [Crime,  Drama]   \n",
              "The Godfather: Part II               [Crime,  Drama]   \n",
              "The Dark Knight             [Action,  Crime,  Drama]   \n",
              "12 Angry Men                         [Crime,  Drama]   \n",
              "...                                              ...   \n",
              "The Lost Weekend                 [Drama,  Film-Noir]   \n",
              "Short Term 12                                [Drama]   \n",
              "His Girl Friday           [Comedy,  Drama,  Romance]   \n",
              "The Straight Story               [Biography,  Drama]   \n",
              "Slumdog Millionaire                          [Drama]   \n",
              "\n",
              "                                           Director  \\\n",
              "Title                                                 \n",
              "The Shawshank Redemption              frankdarabont   \n",
              "The Godfather                    francisfordcoppola   \n",
              "The Godfather: Part II           francisfordcoppola   \n",
              "The Dark Knight                    christophernolan   \n",
              "12 Angry Men                            sidneylumet   \n",
              "...                                             ...   \n",
              "The Lost Weekend                        billywilder   \n",
              "Short Term 12                   destindanielcretton   \n",
              "His Girl Friday                         howardhawks   \n",
              "The Straight Story                       davidlynch   \n",
              "Slumdog Millionaire       dannyboyle,loveleentandan   \n",
              "\n",
              "                                                                     Actors  \\\n",
              "Title                                                                         \n",
              "The Shawshank Redemption             [timrobbins, morganfreeman, bobgunton]   \n",
              "The Godfather                           [marlonbrando, alpacino, jamescaan]   \n",
              "The Godfather: Part II                [alpacino, robertduvall, dianekeaton]   \n",
              "The Dark Knight                  [christianbale, heathledger, aaroneckhart]   \n",
              "12 Angry Men                         [martinbalsam, johnfiedler, leej.cobb]   \n",
              "...                                                                     ...   \n",
              "The Lost Weekend                      [raymilland, janewyman, phillipterry]   \n",
              "Short Term 12              [brielarson, johngallagherjr., stephaniebeatriz]   \n",
              "His Girl Friday                  [carygrant, rosalindrussell, ralphbellamy]   \n",
              "The Straight Story        [sissyspacek, janegallowayheitz, josepha.carpe...   \n",
              "Slumdog Millionaire                   [devpatel, saurabhshukla, anilkapoor]   \n",
              "\n",
              "                                                                   Keywords  \n",
              "Title                                                                        \n",
              "The Shawshank Redemption  [acts, number, common, decency, years, eventua...  \n",
              "The Godfather             [reluctant, son, organized, crime, dynasty, tr...  \n",
              "The Godfather: Part II    [portrayed, grip, early, life, tightens, son, ...  \n",
              "The Dark Knight           [joker, emerges, mysterious, past, ability, fi...  \n",
              "12 Angry Men              [forcing, jury, holdout, attempts, justice, pr...  \n",
              "...                                                                     ...  \n",
              "The Lost Weekend          [followed, desperate, life, four, chronic, alc...  \n",
              "Short Term 12             [longtime, boyfriend, residential, treatment, ...  \n",
              "His Girl Friday           [wife, book, keep, ace, reporter, ex, newspape...  \n",
              "The Straight Story        [mend, old, man, makes, lawn, mover, tractor, ...  \n",
              "Slumdog Millionaire       [mumbai, teen, reflects, accused, slums, wants...  \n",
              "\n",
              "[250 rows x 4 columns]"
            ]
          },
          "metadata": {
            "tags": []
          },
          "execution_count": 63
        }
      ]
    },
    {
      "cell_type": "markdown",
      "metadata": {
        "id": "hIR8vDtbLGiM",
        "colab_type": "text"
      },
      "source": [
        "# Create a `bag of words` from all keywords in the dataframe then drop every column except 'bag_of_words' column which is being used for next step."
      ]
    },
    {
      "cell_type": "code",
      "metadata": {
        "id": "CXKVbDuZLWYq",
        "colab_type": "code",
        "colab": {
          "base_uri": "https://localhost:8080/",
          "height": 225
        },
        "outputId": "3898acdf-9b2f-4d03-fea8-8673b46349f5"
      },
      "source": [
        "df['bag_of_words'] = ''\n",
        "whiteSpace = ' '\n",
        "columns = df.columns\n",
        "for index, row in df.iterrows():\n",
        "    words = ''\n",
        "    for col in columns:\n",
        "        if col != 'Director':\n",
        "            words = words + whiteSpace.join(row[col])+ whiteSpace\n",
        "        else:\n",
        "            words = words + row[col]+ whiteSpace\n",
        "    row['bag_of_words'] = words\n",
        "df.drop(columns = [col for col in df.columns if col!= 'bag_of_words'], inplace = True)\n",
        "df.head()"
      ],
      "execution_count": 64,
      "outputs": [
        {
          "output_type": "execute_result",
          "data": {
            "text/html": [
              "<div>\n",
              "<style scoped>\n",
              "    .dataframe tbody tr th:only-of-type {\n",
              "        vertical-align: middle;\n",
              "    }\n",
              "\n",
              "    .dataframe tbody tr th {\n",
              "        vertical-align: top;\n",
              "    }\n",
              "\n",
              "    .dataframe thead th {\n",
              "        text-align: right;\n",
              "    }\n",
              "</style>\n",
              "<table border=\"1\" class=\"dataframe\">\n",
              "  <thead>\n",
              "    <tr style=\"text-align: right;\">\n",
              "      <th></th>\n",
              "      <th>bag_of_words</th>\n",
              "    </tr>\n",
              "    <tr>\n",
              "      <th>Title</th>\n",
              "      <th></th>\n",
              "    </tr>\n",
              "  </thead>\n",
              "  <tbody>\n",
              "    <tr>\n",
              "      <th>The Shawshank Redemption</th>\n",
              "      <td>Crime  Drama frankdarabont timrobbins morganfr...</td>\n",
              "    </tr>\n",
              "    <tr>\n",
              "      <th>The Godfather</th>\n",
              "      <td>Crime  Drama francisfordcoppola marlonbrando a...</td>\n",
              "    </tr>\n",
              "    <tr>\n",
              "      <th>The Godfather: Part II</th>\n",
              "      <td>Crime  Drama francisfordcoppola alpacino rober...</td>\n",
              "    </tr>\n",
              "    <tr>\n",
              "      <th>The Dark Knight</th>\n",
              "      <td>Action  Crime  Drama christophernolan christia...</td>\n",
              "    </tr>\n",
              "    <tr>\n",
              "      <th>12 Angry Men</th>\n",
              "      <td>Crime  Drama sidneylumet martinbalsam johnfied...</td>\n",
              "    </tr>\n",
              "  </tbody>\n",
              "</table>\n",
              "</div>"
            ],
            "text/plain": [
              "                                                               bag_of_words\n",
              "Title                                                                      \n",
              "The Shawshank Redemption  Crime  Drama frankdarabont timrobbins morganfr...\n",
              "The Godfather             Crime  Drama francisfordcoppola marlonbrando a...\n",
              "The Godfather: Part II    Crime  Drama francisfordcoppola alpacino rober...\n",
              "The Dark Knight           Action  Crime  Drama christophernolan christia...\n",
              "12 Angry Men              Crime  Drama sidneylumet martinbalsam johnfied..."
            ]
          },
          "metadata": {
            "tags": []
          },
          "execution_count": 64
        }
      ]
    },
    {
      "cell_type": "markdown",
      "metadata": {
        "id": "c35boktRD03A",
        "colab_type": "text"
      },
      "source": [
        "# **Build the similarity matrix**\n",
        "Initial an instance of CountVectorizer."
      ]
    },
    {
      "cell_type": "code",
      "metadata": {
        "id": "-W0MVdBfD6jZ",
        "colab_type": "code",
        "colab": {
          "base_uri": "https://localhost:8080/",
          "height": 50
        },
        "outputId": "ef2abd09-efa3-43d2-ac6b-34bef8f27d34"
      },
      "source": [
        "countVectorizer = CountVectorizer()\n",
        "count_matrix = countVectorizer.fit_transform(df['bag_of_words'])\n",
        "count_matrix"
      ],
      "execution_count": 65,
      "outputs": [
        {
          "output_type": "execute_result",
          "data": {
            "text/plain": [
              "<250x2961 sparse matrix of type '<class 'numpy.int64'>'\n",
              "\twith 5342 stored elements in Compressed Sparse Row format>"
            ]
          },
          "metadata": {
            "tags": []
          },
          "execution_count": 65
        }
      ]
    },
    {
      "cell_type": "markdown",
      "metadata": {
        "id": "v38E_CMaGS-N",
        "colab_type": "text"
      },
      "source": [
        "Create indices of `Title` column to be associated with a `cosine similarity matrix` in a recommendation function."
      ]
    },
    {
      "cell_type": "code",
      "metadata": {
        "id": "3ST9V5-DGZKk",
        "colab_type": "code",
        "colab": {
          "base_uri": "https://localhost:8080/",
          "height": 218
        },
        "outputId": "b28a3cd1-d081-4475-b956-74c847c7c24e"
      },
      "source": [
        "indices = pd.Series(df.index)\n",
        "indices"
      ],
      "execution_count": 66,
      "outputs": [
        {
          "output_type": "execute_result",
          "data": {
            "text/plain": [
              "0      The Shawshank Redemption\n",
              "1                 The Godfather\n",
              "2        The Godfather: Part II\n",
              "3               The Dark Knight\n",
              "4                  12 Angry Men\n",
              "                 ...           \n",
              "245            The Lost Weekend\n",
              "246               Short Term 12\n",
              "247             His Girl Friday\n",
              "248          The Straight Story\n",
              "249         Slumdog Millionaire\n",
              "Name: Title, Length: 250, dtype: object"
            ]
          },
          "metadata": {
            "tags": []
          },
          "execution_count": 66
        }
      ]
    },
    {
      "cell_type": "markdown",
      "metadata": {
        "id": "Ue-IkTtHHD5D",
        "colab_type": "text"
      },
      "source": [
        "Create the `cosine similarity matrix`."
      ]
    },
    {
      "cell_type": "code",
      "metadata": {
        "id": "5OS7YKp_G-pz",
        "colab_type": "code",
        "colab": {
          "base_uri": "https://localhost:8080/",
          "height": 235
        },
        "outputId": "432195be-38de-46c7-973a-515e49ef5856"
      },
      "source": [
        "cosine_simi = cosine_similarity(count_matrix, count_matrix)\n",
        "#Display the cosine_simi\n",
        "cosine_simi"
      ],
      "execution_count": 67,
      "outputs": [
        {
          "output_type": "execute_result",
          "data": {
            "text/plain": [
              "array([[1.        , 0.15789474, 0.13764944, ..., 0.05263158, 0.05263158,\n",
              "        0.05564149],\n",
              "       [0.15789474, 1.        , 0.36706517, ..., 0.05263158, 0.05263158,\n",
              "        0.05564149],\n",
              "       [0.13764944, 0.36706517, 1.        , ..., 0.04588315, 0.04588315,\n",
              "        0.04850713],\n",
              "       ...,\n",
              "       [0.05263158, 0.05263158, 0.04588315, ..., 1.        , 0.05263158,\n",
              "        0.05564149],\n",
              "       [0.05263158, 0.05263158, 0.04588315, ..., 0.05263158, 1.        ,\n",
              "        0.05564149],\n",
              "       [0.05564149, 0.05564149, 0.04850713, ..., 0.05564149, 0.05564149,\n",
              "        1.        ]])"
            ]
          },
          "metadata": {
            "tags": []
          },
          "execution_count": 67
        }
      ]
    },
    {
      "cell_type": "markdown",
      "metadata": {
        "id": "oDlpK61FHeMM",
        "colab_type": "text"
      },
      "source": [
        "# **Build a `recommendation function` to recommend movies**\n",
        "*   The function has three parameters are: `input_movie_name`(str),  `cosine_similarity`(array) and `numberOfRecommendedItems` (int).\n",
        "*   Returned results of the function are: A `List` that has `numberOfRecommendedItems` length\n",
        "\n"
      ]
    },
    {
      "cell_type": "code",
      "metadata": {
        "id": "cAXFhxqQI8hi",
        "colab_type": "code",
        "colab": {}
      },
      "source": [
        "def recommendItem(input_movie_name, cosine_simi, numberOfRecommendedItems):\n",
        "  recommendItems = []\n",
        "  idx = indices[indices == input_movie_name].index[0]\n",
        "  score_series = pd.Series(cosine_simi[idx]).sort_values(ascending = False)\n",
        "  recommendedItemsIndices = list(score_series.iloc[1:numberOfRecommendedItems].index)\n",
        "  for item in recommendedItemsIndices:\n",
        "    recommendItems.append(list(df.index)[item])\n",
        "  return recommendItems"
      ],
      "execution_count": 0,
      "outputs": []
    },
    {
      "cell_type": "markdown",
      "metadata": {
        "id": "U__hNkuYMdX_",
        "colab_type": "text"
      },
      "source": [
        "# **Recommend movies by our `recomend function`**"
      ]
    },
    {
      "cell_type": "code",
      "metadata": {
        "id": "mwK6mXNdL9VQ",
        "colab_type": "code",
        "colab": {
          "base_uri": "https://localhost:8080/",
          "height": 168
        },
        "outputId": "74b2b29d-67eb-4fcd-f5ec-ece63805caf3"
      },
      "source": [
        "recommendItem('Short Term 12',cosine_sim,10)"
      ],
      "execution_count": 70,
      "outputs": [
        {
          "output_type": "execute_result",
          "data": {
            "text/plain": [
              "['Fight Club',\n",
              " 'Room',\n",
              " 'The Pianist',\n",
              " 'All Quiet on the Western Front',\n",
              " 'Pink Floyd: The Wall',\n",
              " 'The Great Escape',\n",
              " 'The Imitation Game',\n",
              " 'Patton',\n",
              " 'The Best Years of Our Lives']"
            ]
          },
          "metadata": {
            "tags": []
          },
          "execution_count": 70
        }
      ]
    }
  ]
}